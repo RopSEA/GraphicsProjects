{
 "cells": [
  {
   "cell_type": "markdown",
   "id": "75282e5c-64d0-4857-8e0a-3c8ce31b528c",
   "metadata": {},
   "source": [
    "# Instancing"
   ]
  },
  {
   "cell_type": "code",
   "execution_count": null,
   "id": "79683a59-1a30-43f8-a47c-4082262f61ef",
   "metadata": {},
   "outputs": [],
   "source": [
    "# Assignment 7 Remi Roper"
   ]
  },
  {
   "cell_type": "code",
   "execution_count": null,
   "id": "747899d1-1c94-4076-a80c-0f846295a154",
   "metadata": {},
   "outputs": [],
   "source": [
    "import glm\n",
    "#from objloader import Obj\n",
    "import numpy as np\n",
    "import pygame\n",
    "import moderngl\n",
    "from objloader import Obj\n",
    "from math import cos, sin, sqrt\n",
    "import ctypes\n",
    "#ctypes.windll.user32.SetProcessDPIAware()"
   ]
  },
  {
   "cell_type": "markdown",
   "id": "8a0b2d99-52dc-4760-b66a-2cfc6dddedd0",
   "metadata": {},
   "source": [
    "### Read data from an OBJ modelfile"
   ]
  },
  {
   "cell_type": "code",
   "execution_count": null,
   "id": "92b04312-9210-4042-99d0-bbb5efc0e7e7",
   "metadata": {},
   "outputs": [],
   "source": [
    "class SceneBound:\n",
    "    def __init__(self, coords):\n",
    "        self.boundingBox = [\n",
    "        np.min(coords,0),\n",
    "        np.max(coords,0)\n",
    "        ]\n",
    "        self.center = (self.boundingBox[0] + self.boundingBox[1])/2\n",
    "        dVector = (self.boundingBox[1] - self.boundingBox[0])\n",
    "        self.radius = sqrt(dVector[0]*dVector[0] + dVector[1]*dVector[1]+dVector[2]*dVector[2])/2\n",
    "    def __str__(self):\n",
    "        return f\"boundingBox:{self.boundingBox}, enter: {self.center}, Radius:{self.radius}.\"\n",
    "\n",
    "def get_triangle_normal(vertexList):\n",
    "    e1 = glm.vec3(vertexList[1]) - glm.vec3(vertexList[0])\n",
    "    e2 = glm.vec3(vertexList[2]) - glm.vec3(vertexList[0])\n",
    "    return list(glm.normalize(glm.cross(e1, e2)))\n",
    "\n",
    "def compute_triangle_normal_coords(position_coord):\n",
    "    i = 0\n",
    "    normals = []\n",
    "    while i < len(position_coord):\n",
    "        normal = get_triangle_normal(position_coord[i:i+3])\n",
    "        normals.append(normal)\n",
    "        normals.append(normal)\n",
    "        normals.append(normal)\n",
    "        i += 3\n",
    "    return np.array(normals)\n",
    "\n",
    "def getObjectData(filePath, normal=False, texture = False):\n",
    "    geometry = Obj.open(filePath)\n",
    "    position_coord = np.array([geometry.vert[f[0]-1] for f in geometry.face])\n",
    "    if normal==True:\n",
    "        if geometry.norm:\n",
    "            normal_coord = np.array([geometry.norm[f[2]-1] for f in geometry.face])\n",
    "            print(\"Normal exists\")\n",
    "        else:\n",
    "            normal_coord = compute_triangle_normal_coords(position_coord)\n",
    "            print(\"Normal computed.\")\n",
    "    if texture==True:\n",
    "        if geometry.text:\n",
    "            texture_coord = np.array([[geometry.text[f[1]-1][0],geometry.text[f[1]-1][1]] for f in geometry.face])\n",
    "            print (\"texture exists\")\n",
    "        else:\n",
    "            texture_coord = np.array([[0.5,0.5] for f in geometry.face])\n",
    "            print(\"No texture\")\n",
    "    if (normal==False and texture == False):\n",
    "        vertex_data = position_coord.astype(\"float32\").flatten()\n",
    "    elif texture == False:\n",
    "        vertex_data = np.concatenate((position_coord,normal_coord),axis=1).astype(\"float32\").flatten()\n",
    "    elif normal == False:\n",
    "        vertex_data = np.concatenate((position_coord,texture_coord),axis=1).astype(\"float32\").flatten()\n",
    "    else:\n",
    "        vertex_data = np.concatenate((position_coord,normal_coord,texture_coord),axis=1).astype(\"float32\").flatten()\n",
    "    return [vertex_data, SceneBound(position_coord)]\n"
   ]
  },
  {
   "cell_type": "code",
   "execution_count": null,
   "id": "bfbdef5e-4d46-4355-a94f-ceb3395147c5",
   "metadata": {},
   "outputs": [],
   "source": [
    "files = [\"teapot_with_texCoords-1.obj\", \"cube.obj\", \"20_icosahedron.obj\"] # Teapot, floor, and light source"
   ]
  },
  {
   "cell_type": "code",
   "execution_count": null,
   "id": "3b4402b6-d3e7-4f3b-918b-0b5d9f535900",
   "metadata": {},
   "outputs": [],
   "source": [
    "teapot_vertex_data, teapotBound = getObjectData(files[0], normal=True)\n",
    "floor_vertex_data, floorBound = getObjectData(files[1], normal=True)\n",
    "light_vertex_data, lightBound = getObjectData(files[2], normal=True)"
   ]
  },
  {
   "cell_type": "code",
   "execution_count": null,
   "id": "67f600b6-7327-4a85-a14e-1abdae7297e6",
   "metadata": {},
   "outputs": [],
   "source": [
    "floor_object_transformation = glm.scale(glm.vec3(10,0.05,10))*glm.translate(glm.vec3(0,-1,0))\n",
    "teapot_object_transformation = glm.scale(glm.vec3(0.3))*glm.translate(glm.vec3(0,7.875,0))\n",
    "light_object_transformation = glm.scale(glm.vec3(0.1))"
   ]
  },
  {
   "cell_type": "markdown",
   "id": "dfcfccd1-7e34-4335-ae59-0f2e48dce74e",
   "metadata": {},
   "source": [
    "### Initialize pygame and create a window with OpenGL context."
   ]
  },
  {
   "cell_type": "code",
   "execution_count": null,
   "id": "995e536e-715e-4fdf-9e59-2a10cba86c4d",
   "metadata": {},
   "outputs": [],
   "source": [
    "pygame.init() # Initlizes its different modules. Display module is one of them.\n",
    "clock = pygame.time.Clock()\n",
    "window = pygame.display.set_mode((1000, 800), flags= pygame.OPENGL | pygame.DOUBLEBUF | pygame.RESIZABLE , vsync=True) \n",
    "pygame.display.gl_set_attribute(pygame.GL_CONTEXT_MAJOR_VERSION,4)\n",
    "pygame.display.gl_set_attribute(pygame.GL_CONTEXT_MINOR_VERSION,1)\n",
    "pygame.display.set_caption(title = \"Assignment 7: Remi Roper\")\n",
    "gl = moderngl.get_context()  # Get Previously created context.\n",
    "gl.enable(gl.DEPTH_TEST)\n",
    "width, height = window.get_size()\n",
    "aspect_ratio = width/height"
   ]
  },
  {
   "cell_type": "markdown",
   "id": "2cdb6105-f17f-4a05-b29e-308249fa8cc3",
   "metadata": {},
   "source": [
    "### Push the Geometry Data to the GPU buffer."
   ]
  },
  {
   "cell_type": "code",
   "execution_count": null,
   "id": "dcc737c1-6663-4086-86c7-84ee19ce512b",
   "metadata": {},
   "outputs": [],
   "source": [
    "teapot_vertex_buffer = gl.buffer(teapot_vertex_data)\n",
    "floor_vertex_buffer = gl.buffer(floor_vertex_data)\n",
    "light_vertex_buffer = gl.buffer(light_vertex_data)"
   ]
  },
  {
   "cell_type": "markdown",
   "id": "ba127662-e64f-48d3-b4ee-3e9c81c74fc0",
   "metadata": {},
   "source": [
    "### Write shader code and Create shader program"
   ]
  },
  {
   "cell_type": "code",
   "execution_count": null,
   "id": "cd67584c-34bd-4622-a203-aa9a17f8d259",
   "metadata": {},
   "outputs": [],
   "source": []
  },
  {
   "cell_type": "code",
   "execution_count": null,
   "id": "f24798ed-eb38-4d7b-8f74-ea3f444b9078",
   "metadata": {},
   "outputs": [],
   "source": [
    "vertex_shader_code = '''#version 330 core\n",
    "\n",
    "layout (location = 0) in vec4 in_position;\n",
    "layout (location = 1) in vec3 in_normal;\n",
    "\n",
    "uniform mat4 model;\n",
    "uniform mat4 view, perspective;\n",
    "\n",
    "out vec3 f_normal;\n",
    "\n",
    "void main() {\n",
    "    vec4 world_position = model*in_position;\n",
    "    gl_Position = perspective*view*world_position;\n",
    "    f_normal = in_normal;\n",
    "\n",
    "    mat3 normalMatrix = mat3(transpose(inverse(model)));\n",
    "    f_normal = normalize(normalMatrix*in_normal);\n",
    "}\n",
    "'''\n",
    "fragment_shader_code ='''\n",
    "#version 330 core\n",
    "\n",
    "in vec3 f_normal;\n",
    "in vec3 f_position;\n",
    "out vec4 outColor;\n",
    "uniform vec3 materialColor;\n",
    "uniform vec4 light;\n",
    "\n",
    "vec3 computeColor(){\n",
    "    vec3 lightVector = light.xyz;\n",
    "    if (light.w > 0)\n",
    "        lightVector = light.xyz - f_position;\n",
    "    vec3 L = normalize(lightVector);\n",
    "    vec3 N = normalize(f_normal);\n",
    "    return materialColor * clamp(dot(L,N),0.,1.);\n",
    "}\n",
    "\n",
    "void main()\n",
    "{\n",
    "    vec3 color = computeColor();\n",
    "    outColor = vec4 (color, 1);\n",
    "}\n",
    "\n",
    "'''\n",
    "\n",
    "fragment_shader_code_for_light_source ='''#version 330 core\n",
    "\n",
    "in vec3 f_position;\n",
    "in vec3 f_normal;\n",
    "\n",
    "layout (location = 0) out vec4 out_color;\n",
    "\n",
    "void main() {\n",
    "    vec3 N = normalize(f_normal);\n",
    "    out_color = vec4(0.5*(N+1.0),1.0);\n",
    "}'''\n",
    "\n",
    "sceneProgram = gl.program(\n",
    "    vertex_shader=vertex_shader_code,\n",
    "    fragment_shader=fragment_shader_code\n",
    ")\n",
    "\n",
    "lightProgram = gl.program(\n",
    "    vertex_shader=vertex_shader_code,\n",
    "    fragment_shader=fragment_shader_code_for_light_source\n",
    ")"
   ]
  },
  {
   "cell_type": "code",
   "execution_count": null,
   "id": "2a3f7405-81c5-4e95-91e1-915fb26150c9",
   "metadata": {},
   "outputs": [],
   "source": [
    "def viewProgramParameters(program):\n",
    "    for name in program:\n",
    "        member = program[name]\n",
    "        print(name, type(member), member)"
   ]
  },
  {
   "cell_type": "code",
   "execution_count": null,
   "id": "c16cae23-130a-47c0-b04b-4e19cee61f80",
   "metadata": {},
   "outputs": [],
   "source": [
    "viewProgramParameters(lightProgram)"
   ]
  },
  {
   "cell_type": "code",
   "execution_count": null,
   "id": "8c744355-1046-4bfb-a674-a037bccebba3",
   "metadata": {},
   "outputs": [],
   "source": [
    "viewProgramParameters(sceneProgram)"
   ]
  },
  {
   "cell_type": "markdown",
   "id": "c49784b3-f1ed-43ec-861d-ba874600c6c6",
   "metadata": {},
   "source": [
    "### Connect the buffers to shader program"
   ]
  },
  {
   "cell_type": "code",
   "execution_count": null,
   "id": "7eaf8b44-13ad-4781-97a8-32bb761de837",
   "metadata": {},
   "outputs": [],
   "source": [
    "#https://moderngl.readthedocs.io/en/5.10.0/topics/buffer_format.html#syntax\n",
    "teapot_renderable = gl.vertex_array(sceneProgram, [\n",
    "    (teapot_vertex_buffer, '3f 3f', 'in_position', 'in_normal')\n",
    "]) #for vertex_buffer in vertex_buffers]\n",
    "\n",
    "floor_renderable = gl.vertex_array(sceneProgram, [\n",
    "    (floor_vertex_buffer, '3f 3f', 'in_position', 'in_normal')\n",
    "])\n",
    "\n",
    "light_renderable = gl.vertex_array(lightProgram, [\n",
    "    (light_vertex_buffer, '3f 3f', 'in_position', 'in_normal')\n",
    "])"
   ]
  },
  {
   "cell_type": "code",
   "execution_count": null,
   "id": "045269d1-e0ab-4200-90ea-fe9ad4034f45",
   "metadata": {},
   "outputs": [],
   "source": [
    "near = 1\n",
    "far = 45\n",
    "aspect_ratio = width/height\n",
    "\n",
    "perspectiveMatrix = glm.perspective(glm.radians(60.0), aspect_ratio, near, far)\n",
    "\n",
    "target = glm.vec3(0)\n",
    "cameraDistance = 20\n",
    "eye = target + cameraDistance*glm.normalize(glm.vec3(0,10,20))\n",
    "upVector = glm.vec3(0.0, 1.0, 0.0)\n",
    "viewMatrix = glm.lookAt(eye, target, upVector)\n",
    "lviewMatrix = viewMatrix\n",
    "\n",
    "angle_in_radian = pygame.time.get_ticks() / 1500.0\n",
    "rotateMatrix = glm.rotate(glm.mat4(1), glm.radians(angle_in_radian), glm.vec3(0, 1 ,0))"
   ]
  },
  {
   "cell_type": "code",
   "execution_count": null,
   "id": "ddbe2341-1020-42c3-b95a-adb4e7915f90",
   "metadata": {},
   "outputs": [],
   "source": [
    "# start light vector \n",
    "lightDistance = 12\n",
    "lightVector = glm.normalize(glm.vec3(-1,1,0))# This will change for dynamic light"
   ]
  },
  {
   "cell_type": "code",
   "execution_count": null,
   "id": "196581d1-759d-4129-b6db-b7284a6a970b",
   "metadata": {},
   "outputs": [],
   "source": [
    "running = True\n",
    "depth = True\n",
    "toggle = True\n",
    "angle = 0\n",
    "\n",
    "FLOOR_COLOR = glm.vec3(0.0,0.6,0.0)\n",
    "TP_COLOR = glm.vec3(1.0,0.7,0.5)\n",
    "\n",
    "sceneProgram['view'].write(viewMatrix)\n",
    "sceneProgram[\"perspective\"].write(perspectiveMatrix)\n",
    "lightProgram['view'].write(lviewMatrix)\n",
    "lightProgram[\"perspective\"].write(perspectiveMatrix)\n",
    "\n",
    "lightPosition = lightDistance*lightVector\n",
    "newLight = glm.vec4(lightPosition, 1.0)\n",
    "newLight = light_object_transformation * newLight\n",
    "sceneProgram['light'].write(newLight)\n",
    "\n",
    "\n",
    "while running:   \n",
    "    clock.tick(60)\n",
    "    for event in pygame.event.get():\n",
    "        if event.type == pygame.QUIT:\n",
    "            running = False\n",
    "        elif (event.type == pygame.KEYDOWN):\n",
    "            if event.key == 27:\n",
    "                running = False\n",
    "            elif event.key == pygame.K_d:\n",
    "                depth = not depth\n",
    "                if depth:\n",
    "                    gl.enable(gl.DEPTH_TEST)\n",
    "                else:\n",
    "                    gl.disable(gl.DEPTH_TEST)\n",
    "            elif event.key == pygame.K_l:\n",
    "                toggle = not toggle\n",
    "        elif (event.type == pygame.WINDOWRESIZED):\n",
    "            aspect_ratio = event.x/event.y\n",
    "            perspectiveMatrix = glm.perspective(glm.radians(60.0), aspect_ratio, near, far)\n",
    "            sceneProgram[\"perspective\"].write(perspectiveMatrix) \n",
    "            lightProgram[\"perspective\"].write(perspectiveMatrix)\n",
    "            \n",
    "    gl.clear(0.1,0.1,0.1,depth=1.0)\n",
    "\n",
    "    # For orbiting light you must update the light direction every frame and recompute the light position and light_model_transformation.\n",
    "    # \n",
    "    lightPosition = lightDistance*lightVector # Light is placed lightDistance away from the world Origin along the lightVector direction\n",
    "    light_model_transformation = glm.translate(lightPosition)*light_object_transformation\n",
    "\n",
    "    lviewMatrix = lviewMatrix * rotateMatrix\n",
    "    lightProgram['view'].write(lviewMatrix)\n",
    "\n",
    "    if toggle:\n",
    "        newLight = glm.vec4(lightPosition, 1.0)\n",
    "        newLight = lviewMatrix *  perspectiveMatrix * newLight \n",
    "    else:\n",
    "        newLight = glm.vec4(lightPosition, 1.0)\n",
    "    \n",
    "    sceneProgram['light'].write(newLight)\n",
    "    lightProgram[\"model\"].write(light_model_transformation)\n",
    "    light_renderable.render()\n",
    "\n",
    "    sceneProgram[\"model\"].write(floor_object_transformation)\n",
    "    sceneProgram[\"materialColor\"].write(FLOOR_COLOR)\n",
    "    floor_renderable.render()\n",
    "\n",
    "    sceneProgram[\"model\"].write(teapot_object_transformation)\n",
    "    sceneProgram[\"materialColor\"].write(TP_COLOR)\n",
    "    teapot_renderable.render()\n",
    "\n",
    "    pygame.display.flip()"
   ]
  },
  {
   "cell_type": "code",
   "execution_count": null,
   "id": "7d5ffbcf-96fb-4d8f-a3fb-1ea0ef454195",
   "metadata": {},
   "outputs": [],
   "source": [
    "pygame.quit()"
   ]
  },
  {
   "cell_type": "code",
   "execution_count": null,
   "id": "85e2fd58-9a2a-48ce-ba5a-330f132336bb",
   "metadata": {},
   "outputs": [],
   "source": []
  },
  {
   "cell_type": "code",
   "execution_count": null,
   "id": "577793ea-d5cc-4c58-8898-2c44524053dc",
   "metadata": {},
   "outputs": [],
   "source": []
  },
  {
   "cell_type": "code",
   "execution_count": null,
   "id": "c692efd8-d631-4772-a20c-0b29b69042d3",
   "metadata": {},
   "outputs": [],
   "source": []
  }
 ],
 "metadata": {
  "kernelspec": {
   "display_name": "Python 3 (ipykernel)",
   "language": "python",
   "name": "python3"
  },
  "language_info": {
   "codemirror_mode": {
    "name": "ipython",
    "version": 3
   },
   "file_extension": ".py",
   "mimetype": "text/x-python",
   "name": "python",
   "nbconvert_exporter": "python",
   "pygments_lexer": "ipython3",
   "version": "3.10.12"
  }
 },
 "nbformat": 4,
 "nbformat_minor": 5
}
