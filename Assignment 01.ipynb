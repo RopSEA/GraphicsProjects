{
 "cells": [
  {
   "cell_type": "code",
   "execution_count": 3,
   "id": "1f7af698-7292-4790-9ef9-e7010365bb4c",
   "metadata": {},
   "outputs": [],
   "source": [
    "# Assignment 1 Remi Roper"
   ]
  },
  {
   "cell_type": "code",
   "execution_count": 54,
   "id": "37d15f62-8881-46c3-8c41-50f2717e9d95",
   "metadata": {},
   "outputs": [],
   "source": [
    "import pygame\n",
    "import random\n",
    "import os"
   ]
  },
  {
   "cell_type": "code",
   "execution_count": null,
   "id": "a869c615-1485-4618-b314-fedfe02fbf25",
   "metadata": {},
   "outputs": [],
   "source": [
    "\n",
    "\n",
    "pygame.init()\n",
    "clock = pygame.time.Clock()\n",
    "\n",
    "os.environ['SDL_WINDOWS_DPI_AWARENESS'] ='permonitorv2'# pygame setup\n",
    "\n",
    "display = pygame.display.set_mode((800, 600))\n",
    "pygame.display.set_caption(title = \"Assignment 1: Remi Roper\")\n",
    "running = True\n",
    "\n",
    "while running:\n",
    "    clock.tick(30)\n",
    "    \n",
    "    num1 = random.randint(1,255)\n",
    "    num2 = random.randint(1,255)\n",
    "    num3 = random.randint(1,255)\n",
    "    display.fill((num1, num2, num3)) \n",
    "    \n",
    "    \n",
    "    for event in pygame.event.get(): # poll for events\n",
    "        if event.type == pygame.QUIT or (event.type == pygame.KEYDOWN and event.key == 27):\n",
    "            running = False\n",
    "        #display.fill((num1, num2, num3)) # try changing r,g,b values\n",
    "    \n",
    "    pygame.display.flip()\n",
    "pygame.quit()"
   ]
  },
  {
   "cell_type": "code",
   "execution_count": null,
   "id": "6222ebaa-6a36-4607-8088-6bc25012a8cb",
   "metadata": {},
   "outputs": [],
   "source": []
  }
 ],
 "metadata": {
  "kernelspec": {
   "display_name": "Python 3 (ipykernel)",
   "language": "python",
   "name": "python3"
  },
  "language_info": {
   "codemirror_mode": {
    "name": "ipython",
    "version": 3
   },
   "file_extension": ".py",
   "mimetype": "text/x-python",
   "name": "python",
   "nbconvert_exporter": "python",
   "pygments_lexer": "ipython3",
   "version": "3.10.12"
  }
 },
 "nbformat": 4,
 "nbformat_minor": 5
}
