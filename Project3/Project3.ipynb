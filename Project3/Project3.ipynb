{
 "cells": [
  {
   "cell_type": "markdown",
   "id": "75282e5c-64d0-4857-8e0a-3c8ce31b528c",
   "metadata": {},
   "source": [
    "# Diffuse and Specular lighting with Texture\n",
    "Toggles:\n",
    "- l: to toggle between point and directional light source (Default: Directional light)\n",
    "- p: to toggle between pause and rotation of the light source (Default: Pause)\n",
    "\n",
    "Press ESC to exit."
   ]
  },
  {
   "cell_type": "code",
   "execution_count": 293,
   "id": "7df6c507-5037-49fd-bff8-fe5981b2511b",
   "metadata": {},
   "outputs": [],
   "source": [
    "# Project 3 Remi Roper"
   ]
  },
  {
   "cell_type": "code",
   "execution_count": null,
   "id": "7dfedacc-6bdb-4a75-9ccc-f06179d2c0ac",
   "metadata": {},
   "outputs": [],
   "source": []
  },
  {
   "cell_type": "code",
   "execution_count": 294,
   "id": "747899d1-1c94-4076-a80c-0f846295a154",
   "metadata": {},
   "outputs": [],
   "source": [
    "import glm\n",
    "from objloader import Obj\n",
    "import numpy as np\n",
    "import pygame\n",
    "import moderngl\n",
    "from math import cos, sin, sqrt\n",
    "#from LoadObject import getObjectData\n",
    "#import ctypes\n",
    "#ctypes.windll.user32.SetProcessDPIAware()"
   ]
  },
  {
   "cell_type": "markdown",
   "id": "8a0b2d99-52dc-4760-b66a-2cfc6dddedd0",
   "metadata": {},
   "source": [
    "### Read data from an OBJ modelfile"
   ]
  },
  {
   "cell_type": "code",
   "execution_count": 295,
   "id": "d8fc1224-5525-48c1-8afa-c42be0b3e961",
   "metadata": {},
   "outputs": [],
   "source": [
    "class SceneBound:\n",
    "    def __init__(self, coords):\n",
    "        self.boundingBox = [\n",
    "        np.min(coords,0),\n",
    "        np.max(coords,0)\n",
    "        ]\n",
    "        self.center = (self.boundingBox[0] + self.boundingBox[1])/2\n",
    "        dVector = (self.boundingBox[1] - self.boundingBox[0])\n",
    "        self.radius = sqrt(dVector[0]*dVector[0] + dVector[1]*dVector[1]+dVector[2]*dVector[2])/2\n",
    "    def __str__(self):\n",
    "        return f\"boundingBox:{self.boundingBox}, enter: {self.center}, Radius:{self.radius}.\"\n",
    "\n",
    "def get_triangle_normal(vertexList):\n",
    "    e1 = glm.vec3(vertexList[1]) - glm.vec3(vertexList[0])\n",
    "    e2 = glm.vec3(vertexList[2]) - glm.vec3(vertexList[0])\n",
    "    return list(glm.normalize(glm.cross(e1, e2)))\n",
    "\n",
    "def compute_triangle_normal_coords(position_coord):\n",
    "    i = 0\n",
    "    normals = []\n",
    "    while i < len(position_coord):\n",
    "        normal = get_triangle_normal(position_coord[i:i+3])\n",
    "        normals.append(normal)\n",
    "        normals.append(normal)\n",
    "        normals.append(normal)\n",
    "        i += 3\n",
    "    return np.array(normals)\n",
    "\n",
    "def getObjectData(filePath, normal=False, texture = False):\n",
    "    geometry = Obj.open(filePath)\n",
    "    position_coord = np.array([geometry.vert[f[0]-1] for f in geometry.face])\n",
    "    if normal==True:\n",
    "        if geometry.norm:\n",
    "            normal_coord = np.array([geometry.norm[f[2]-1] for f in geometry.face])\n",
    "            print(\"Normal exists\")\n",
    "        else:\n",
    "            normal_coord = compute_triangle_normal_coords(position_coord)\n",
    "            print(\"Normal computed.\")\n",
    "    if texture==True:\n",
    "        if geometry.text:\n",
    "            texture_coord = np.array([[geometry.text[f[1]-1][0],geometry.text[f[1]-1][1]] for f in geometry.face])\n",
    "            print (\"texture exists\")\n",
    "        else:\n",
    "            texture_coord = np.array([[0.5,0.5] for f in geometry.face])\n",
    "            print(\"No texture\")\n",
    "    if (normal==False and texture == False):\n",
    "        vertex_data = position_coord.astype(\"float32\").flatten()\n",
    "    elif texture == False:\n",
    "        vertex_data = np.concatenate((position_coord,normal_coord),axis=1).astype(\"float32\").flatten()\n",
    "    elif normal == False:\n",
    "        vertex_data = np.concatenate((position_coord,texture_coord),axis=1).astype(\"float32\").flatten()\n",
    "    else:\n",
    "        vertex_data = np.concatenate((position_coord,normal_coord,texture_coord),axis=1).astype(\"float32\").flatten()\n",
    "    return [vertex_data, SceneBound(position_coord)]\n"
   ]
  },
  {
   "cell_type": "code",
   "execution_count": 296,
   "id": "bfbdef5e-4d46-4355-a94f-ceb3395147c5",
   "metadata": {},
   "outputs": [],
   "source": [
    "# Data from https://github.com/thinks/platonic-solids/blob/master/models/\n",
    "files = [\"teapot_with_texCoords.obj\", \"cube.obj\", \"20_icosahedron.obj\"] # Teapot, floor, and light source"
   ]
  },
  {
   "cell_type": "code",
   "execution_count": 297,
   "id": "3b4402b6-d3e7-4f3b-918b-0b5d9f535900",
   "metadata": {},
   "outputs": [
    {
     "name": "stdout",
     "output_type": "stream",
     "text": [
      "Normal exists\n",
      "texture exists\n",
      "Normal exists\n",
      "texture exists\n",
      "Normal computed.\n"
     ]
    }
   ],
   "source": [
    "teapot_object = getObjectData(files[0], normal=True, texture=True)\n",
    "box_object = getObjectData(files[1], normal=True, texture=True)\n",
    "light_object = getObjectData(files[2], normal=True)"
   ]
  },
  {
   "cell_type": "code",
   "execution_count": 298,
   "id": "dd1eb8db-a130-4313-83bb-e64a9547386f",
   "metadata": {},
   "outputs": [],
   "source": [
    "box_object_transformation = glm.scale(glm.vec3(10,0.05,10))*glm.translate(glm.vec3(0,-1,0))\n",
    "teapot_object_transformation = glm.scale(glm.vec3(0.3))*glm.translate(glm.vec3(0,7.875,0))\n",
    "light_object_scaletransformation = glm.scale(glm.vec3(0.1))"
   ]
  },
  {
   "cell_type": "markdown",
   "id": "dfcfccd1-7e34-4335-ae59-0f2e48dce74e",
   "metadata": {},
   "source": [
    "### Initialize pygame and create a window with OpenGL context."
   ]
  },
  {
   "cell_type": "code",
   "execution_count": 299,
   "id": "995e536e-715e-4fdf-9e59-2a10cba86c4d",
   "metadata": {},
   "outputs": [
    {
     "name": "stderr",
     "output_type": "stream",
     "text": [
      "/tmp/ipykernel_1165/3362843151.py:3: Warning: regular vsync for OpenGL not available\n",
      "  window = pygame.display.set_mode((1000, 800), flags= pygame.OPENGL | pygame.DOUBLEBUF | pygame.RESIZABLE , vsync=True)\n"
     ]
    }
   ],
   "source": [
    "pygame.init() # Initlizes its different modules. Display module is one of them.\n",
    "clock = pygame.time.Clock()\n",
    "window = pygame.display.set_mode((1000, 800), flags= pygame.OPENGL | pygame.DOUBLEBUF | pygame.RESIZABLE , vsync=True) \n",
    "pygame.display.gl_set_attribute(pygame.GL_CONTEXT_MAJOR_VERSION,4)\n",
    "pygame.display.gl_set_attribute(pygame.GL_CONTEXT_MINOR_VERSION,1)\n",
    "pygame.display.set_caption(title = \"Project 3 Remi Roper\")\n",
    "gl = moderngl.get_context()  # Get Previously created context.\n",
    "gl.enable(gl.DEPTH_TEST)\n",
    "width, height = window.get_size()\n",
    "aspect_ratio = width/height"
   ]
  },
  {
   "cell_type": "markdown",
   "id": "08bb9e22-d278-4352-999b-335e948118bc",
   "metadata": {},
   "source": [
    "#### Load Texture images, Create texture and sampler objects"
   ]
  },
  {
   "cell_type": "code",
   "execution_count": 300,
   "id": "c70ac3f6-7742-42a3-9e50-b26a04addf67",
   "metadata": {},
   "outputs": [],
   "source": [
    "def load_image(image_file, channels=\"RGBA\",flip_x=False, flip_y=False):\n",
    "    # pygame.image.load() will return the \n",
    "    # object that has image \n",
    "    texture_img = pygame.image.load(image_file) \n",
    "    if (flip_x or flip_y):\n",
    "        texture_img=pygame.transform.flip(texture_img, flip_x, flip_y)\n",
    "    texture_data = pygame.image.tobytes(texture_img,channels,True)\n",
    "    #w, h = texture_img.get_size()\n",
    "    return texture_data, texture_img.get_size()"
   ]
  },
  {
   "cell_type": "code",
   "execution_count": 301,
   "id": "8cc46fb6-da25-4c8c-aad7-ee8de639e3d3",
   "metadata": {},
   "outputs": [
    {
     "name": "stderr",
     "output_type": "stream",
     "text": [
      "libpng warning: iCCP: known incorrect sRGB profile\n"
     ]
    }
   ],
   "source": [
    "img_data, img_size  = load_image(\"gold.jpg\", \"RGB\")\n",
    "_texture = gl.texture(img_size, 3, img_data)\n",
    "_texture.build_mipmaps()\n",
    "specular_sampler = gl.sampler(texture=_texture, filter=(gl.LINEAR_MIPMAP_LINEAR, gl.LINEAR))\n",
    "\n",
    "img_data, img_size  = load_image('grass.jpg', \"RGB\")\n",
    "_texture = gl.texture(img_size, 3, img_data)\n",
    "_texture.build_mipmaps()\n",
    "diffuse_sampler = gl.sampler(texture=_texture, filter=(gl.LINEAR_MIPMAP_LINEAR, gl.LINEAR))\n",
    "\n",
    "img_data, img_size  = load_image('brick.png', \"RGB\")\n",
    "_texture = gl.texture(img_size, 3, img_data)\n",
    "_texture.build_mipmaps()\n",
    "brick_sampler = gl.sampler(texture=_texture, filter=(gl.LINEAR_MIPMAP_LINEAR, gl.LINEAR))\n",
    "\n",
    "\n",
    "img_data, img_size  = load_image('floorNormal.png', \"RGB\")\n",
    "_texture = gl.texture(img_size, 3, img_data)\n",
    "_texture.build_mipmaps()\n",
    "floor_sampler = gl.sampler(texture=_texture, filter=(gl.LINEAR_MIPMAP_LINEAR, gl.LINEAR))"
   ]
  },
  {
   "cell_type": "markdown",
   "id": "2cdb6105-f17f-4a05-b29e-308249fa8cc3",
   "metadata": {},
   "source": [
    "#### Push the Geometry Data to the GPU buffer."
   ]
  },
  {
   "cell_type": "code",
   "execution_count": 302,
   "id": "dcc737c1-6663-4086-86c7-84ee19ce512b",
   "metadata": {},
   "outputs": [],
   "source": [
    "teapot_vertex_buffer = gl.buffer(teapot_object[0])\n",
    "box_object_buffer = gl.buffer(box_object[0])\n",
    "light_object_buffer = gl.buffer(light_object[0])"
   ]
  },
  {
   "cell_type": "markdown",
   "id": "ba127662-e64f-48d3-b4ee-3e9c81c74fc0",
   "metadata": {},
   "source": [
    "### Write shader code, Create shader program(s) and create renderables by connecting the buffers to shader program"
   ]
  },
  {
   "cell_type": "code",
   "execution_count": 303,
   "id": "0b99bca2",
   "metadata": {},
   "outputs": [],
   "source": [
    "def queryProgramParameters(program):\n",
    "    for name in program:\n",
    "        member = program[name]\n",
    "        print(name, type(member), member)"
   ]
  },
  {
   "cell_type": "markdown",
   "id": "c938943c-bfc8-4c82-bb27-9ffffa1e0a9e",
   "metadata": {},
   "source": [
    "#### Shared Vertex Shader code"
   ]
  },
  {
   "cell_type": "code",
   "execution_count": 304,
   "id": "f16f3bbc",
   "metadata": {},
   "outputs": [],
   "source": [
    "shared_vertex_shader_code = '''#version 330 core\n",
    "\n",
    "layout (location = 0) in vec4 in_position;\n",
    "layout (location = 1) in vec3 in_normal;\n",
    "layout (location = 2) in vec2 in_uv;\n",
    "\n",
    "uniform mat4 model;\n",
    "uniform mat4 view, perspective;\n",
    "\n",
    "out vec2 f_uv;\n",
    "out vec3 f_normal;\n",
    "out vec3 f_position;\n",
    "\n",
    "void main() {\n",
    "    f_position = (model*in_position).xyz;\n",
    "    f_normal = normalize(mat3(transpose(inverse(model)))*in_normal);\n",
    "    f_uv = in_uv;\n",
    "    gl_Position = perspective*view*vec4(f_position,1.);\n",
    "}\n",
    "'''"
   ]
  },
  {
   "cell_type": "markdown",
   "id": "c49784b3-f1ed-43ec-861d-ba874600c6c6",
   "metadata": {},
   "source": [
    "#### Main Progam and renderables for Floor and Teapot Object"
   ]
  },
  {
   "cell_type": "code",
   "execution_count": 305,
   "id": "7eaf8b44-13ad-4781-97a8-32bb761de837",
   "metadata": {},
   "outputs": [
    {
     "name": "stdout",
     "output_type": "stream",
     "text": [
      "Main Program Parameters\n"
     ]
    },
    {
     "ename": "Error",
     "evalue": "GLSL Compiler failed\n\nfragment_shader\n===============\n0:53(7): error: `baseNorm' redeclared\n\n",
     "output_type": "error",
     "traceback": [
      "\u001b[0;31m---------------------------------------------------------------------------\u001b[0m",
      "\u001b[0;31mError\u001b[0m                                     Traceback (most recent call last)",
      "Cell \u001b[0;32mIn[305], line 2\u001b[0m\n\u001b[1;32m      1\u001b[0m \u001b[38;5;28mprint\u001b[39m(\u001b[38;5;124m\"\u001b[39m\u001b[38;5;124mMain Program Parameters\u001b[39m\u001b[38;5;124m\"\u001b[39m)\n\u001b[0;32m----> 2\u001b[0m mainShaderProgram \u001b[38;5;241m=\u001b[39m \u001b[43mgl\u001b[49m\u001b[38;5;241;43m.\u001b[39;49m\u001b[43mprogram\u001b[49m\u001b[43m(\u001b[49m\n\u001b[1;32m      3\u001b[0m \u001b[43m  \u001b[49m\u001b[43mvertex_shader\u001b[49m\u001b[43m \u001b[49m\u001b[38;5;241;43m=\u001b[39;49m\u001b[43m \u001b[49m\u001b[43mshared_vertex_shader_code\u001b[49m\u001b[43m,\u001b[49m\n\u001b[1;32m      4\u001b[0m \u001b[43m  \u001b[49m\u001b[43mfragment_shader\u001b[49m\u001b[43m \u001b[49m\u001b[38;5;241;43m=\u001b[39;49m\u001b[43m \u001b[49m\u001b[38;5;124;43m'''\u001b[39;49m\u001b[38;5;124;43m#version 330 core\u001b[39;49m\n\u001b[1;32m      5\u001b[0m \n\u001b[1;32m      6\u001b[0m \u001b[38;5;124;43min vec3 f_position;\u001b[39;49m\n\u001b[1;32m      7\u001b[0m \u001b[38;5;124;43min vec3 f_normal;\u001b[39;49m\n\u001b[1;32m      8\u001b[0m \u001b[38;5;124;43min vec2 f_uv;\u001b[39;49m\n\u001b[1;32m      9\u001b[0m \n\u001b[1;32m     10\u001b[0m \u001b[38;5;124;43muniform vec3 eye;\u001b[39;49m\n\u001b[1;32m     11\u001b[0m \u001b[38;5;124;43muniform sampler2D map;\u001b[39;49m\n\u001b[1;32m     12\u001b[0m \u001b[38;5;124;43muniform sampler2D norm;\u001b[39;49m\n\u001b[1;32m     13\u001b[0m \u001b[38;5;124;43muniform vec4 light;\u001b[39;49m\n\u001b[1;32m     14\u001b[0m \n\u001b[1;32m     15\u001b[0m \u001b[38;5;124;43muniform bool metal;\u001b[39;49m\n\u001b[1;32m     16\u001b[0m \u001b[38;5;124;43mconst float shininess = 25.0;\u001b[39;49m\n\u001b[1;32m     17\u001b[0m \n\u001b[1;32m     18\u001b[0m \u001b[38;5;124;43mlayout (location = 0) out vec4 out_color;\u001b[39;49m\n\u001b[1;32m     19\u001b[0m \n\u001b[1;32m     20\u001b[0m \n\u001b[1;32m     21\u001b[0m \u001b[38;5;124;43mmat3 computeNorm()\u001b[39;49m\u001b[38;5;124;43m{\u001b[39;49m\n\u001b[1;32m     22\u001b[0m \u001b[38;5;124;43m    vec3 baseNorm =  texture(norm, f_uv).rgb;\u001b[39;49m\n\u001b[1;32m     23\u001b[0m \u001b[38;5;124;43m    vec3 N = f_normal;\u001b[39;49m\n\u001b[1;32m     24\u001b[0m \n\u001b[1;32m     25\u001b[0m \u001b[38;5;124;43m    vec3 dp1 = dFdx(f_position);\u001b[39;49m\n\u001b[1;32m     26\u001b[0m \u001b[38;5;124;43m    vec3 dp2 = dFdy(f_position);\u001b[39;49m\n\u001b[1;32m     27\u001b[0m \u001b[38;5;124;43m    vec2 duv1 = dFdx(f_uv);\u001b[39;49m\n\u001b[1;32m     28\u001b[0m \u001b[38;5;124;43m    vec2 duv2 = dFdy(f_uv);\u001b[39;49m\n\u001b[1;32m     29\u001b[0m \u001b[38;5;124;43m    vec3 dp2perp = cross( dp2, f_normal );\u001b[39;49m\n\u001b[1;32m     30\u001b[0m \u001b[38;5;124;43m    vec3 dp1perp = cross( f_normal, dp1 );\u001b[39;49m\n\u001b[1;32m     31\u001b[0m \u001b[38;5;124;43m    vec3 T = dp2perp * duv1.x + dp1perp * duv2.x;\u001b[39;49m\n\u001b[1;32m     32\u001b[0m \u001b[38;5;124;43m    vec3 B = dp2perp * duv1.y + dp1perp * duv2.y;\u001b[39;49m\n\u001b[1;32m     33\u001b[0m \u001b[38;5;124;43m    float invmax = inversesqrt( max( dot(T,T), dot(B,B) ) );\u001b[39;49m\n\u001b[1;32m     34\u001b[0m \u001b[38;5;124;43m    T = invmax *(dp2perp * duv1.x + dp1perp * duv2.x);\u001b[39;49m\n\u001b[1;32m     35\u001b[0m \u001b[38;5;124;43m    B = invmax *(dp2perp * duv1.y + dp1perp * duv2.y);\u001b[39;49m\n\u001b[1;32m     36\u001b[0m \n\u001b[1;32m     37\u001b[0m \u001b[38;5;124;43m    mat3 TBN = mat3(T,B,N);\u001b[39;49m\n\u001b[1;32m     38\u001b[0m \u001b[38;5;124;43m    \u001b[39;49m\n\u001b[1;32m     39\u001b[0m \u001b[38;5;124;43m    return  TBN;\u001b[39;49m\n\u001b[1;32m     40\u001b[0m \n\u001b[1;32m     41\u001b[0m \u001b[38;5;124;43m}\u001b[39;49m\n\u001b[1;32m     42\u001b[0m \n\u001b[1;32m     43\u001b[0m \n\u001b[1;32m     44\u001b[0m \u001b[38;5;124;43mvoid main() \u001b[39;49m\u001b[38;5;124;43m{\u001b[39;49m\n\u001b[1;32m     45\u001b[0m \n\u001b[1;32m     46\u001b[0m \u001b[38;5;124;43m    vec3 baseNorm =  texture(norm, f_uv).rgb;\u001b[39;49m\n\u001b[1;32m     47\u001b[0m \u001b[38;5;124;43m    vec3 tangentSpaceNorm = baseNorm *2.0 -1.0;\u001b[39;49m\n\u001b[1;32m     48\u001b[0m \u001b[38;5;124;43m    vec3 N = normalize(f_normal);\u001b[39;49m\n\u001b[1;32m     49\u001b[0m \u001b[38;5;124;43m    vec3 L = normalize(light.xyz);\u001b[39;49m\n\u001b[1;32m     50\u001b[0m \u001b[38;5;124;43m    if (light.w > 0.) L = normalize(light.xyz-f_position);\u001b[39;49m\n\u001b[1;32m     51\u001b[0m \u001b[38;5;124;43m    \u001b[39;49m\n\u001b[1;32m     52\u001b[0m \u001b[38;5;124;43m    vec3 V = normalize(eye-f_position);\u001b[39;49m\n\u001b[1;32m     53\u001b[0m \u001b[38;5;124;43m    vec3 H = normalize(L+V);\u001b[39;49m\n\u001b[1;32m     54\u001b[0m \u001b[38;5;124;43m    \u001b[39;49m\n\u001b[1;32m     55\u001b[0m \u001b[38;5;124;43m    vec3 baseColor = texture(map, f_uv).rgb;\u001b[39;49m\n\u001b[1;32m     56\u001b[0m \u001b[38;5;124;43m    vec3 baseNorm = normalize( computeNorm() * tangentSpaceNorm);\u001b[39;49m\n\u001b[1;32m     57\u001b[0m \u001b[38;5;124;43m    \u001b[39;49m\n\u001b[1;32m     58\u001b[0m \u001b[38;5;124;43m    vec3 color  = ((metal)? pow(clamp(dot(H,baseNorm), 0., 1.), shininess):clamp(dot(baseNorm,L),0.,1.))*baseColor;\u001b[39;49m\n\u001b[1;32m     59\u001b[0m \u001b[38;5;124;43m    out_color = vec4(color,1.);\u001b[39;49m\n\u001b[1;32m     60\u001b[0m \u001b[38;5;124;43m}\u001b[39;49m\n\u001b[1;32m     61\u001b[0m \u001b[38;5;124;43m'''\u001b[39;49m\n\u001b[1;32m     62\u001b[0m \u001b[43m)\u001b[49m\n\u001b[1;32m     63\u001b[0m queryProgramParameters(mainShaderProgram)\n\u001b[1;32m     65\u001b[0m \u001b[38;5;66;03m#https://moderngl.readthedocs.io/en/5.10.0/topics/buffer_format.html#syntax\u001b[39;00m\n",
      "File \u001b[0;32m~/.local/lib/python3.10/site-packages/moderngl/__init__.py:1727\u001b[0m, in \u001b[0;36mContext.program\u001b[0;34m(self, vertex_shader, fragment_shader, geometry_shader, tess_control_shader, tess_evaluation_shader, varyings, fragment_outputs, attributes, varyings_capture_mode)\u001b[0m\n\u001b[1;32m   1724\u001b[0m     fragment_shader \u001b[38;5;241m=\u001b[39m fragment_shader\u001b[38;5;241m.\u001b[39mstrip()\n\u001b[1;32m   1726\u001b[0m res \u001b[38;5;241m=\u001b[39m Program\u001b[38;5;241m.\u001b[39m\u001b[38;5;21m__new__\u001b[39m(Program)\n\u001b[0;32m-> 1727\u001b[0m res\u001b[38;5;241m.\u001b[39mmglo, _members, res\u001b[38;5;241m.\u001b[39m_subroutines, res\u001b[38;5;241m.\u001b[39m_geom, res\u001b[38;5;241m.\u001b[39m_glo \u001b[38;5;241m=\u001b[39m \u001b[38;5;28;43mself\u001b[39;49m\u001b[38;5;241;43m.\u001b[39;49m\u001b[43mmglo\u001b[49m\u001b[38;5;241;43m.\u001b[39;49m\u001b[43mprogram\u001b[49m\u001b[43m(\u001b[49m\n\u001b[1;32m   1728\u001b[0m \u001b[43m    \u001b[49m\u001b[43mvertex_shader\u001b[49m\u001b[43m,\u001b[49m\n\u001b[1;32m   1729\u001b[0m \u001b[43m    \u001b[49m\u001b[43mfragment_shader\u001b[49m\u001b[43m,\u001b[49m\n\u001b[1;32m   1730\u001b[0m \u001b[43m    \u001b[49m\u001b[43mgeometry_shader\u001b[49m\u001b[43m,\u001b[49m\n\u001b[1;32m   1731\u001b[0m \u001b[43m    \u001b[49m\u001b[43mtess_control_shader\u001b[49m\u001b[43m,\u001b[49m\n\u001b[1;32m   1732\u001b[0m \u001b[43m    \u001b[49m\u001b[43mtess_evaluation_shader\u001b[49m\u001b[43m,\u001b[49m\n\u001b[1;32m   1733\u001b[0m \u001b[43m    \u001b[49m\u001b[38;5;28;43;01mNone\u001b[39;49;00m\u001b[43m,\u001b[49m\n\u001b[1;32m   1734\u001b[0m \u001b[43m    \u001b[49m\u001b[43mvaryings\u001b[49m\u001b[43m,\u001b[49m\n\u001b[1;32m   1735\u001b[0m \u001b[43m    \u001b[49m\u001b[43mfragment_outputs\u001b[49m\u001b[43m,\u001b[49m\n\u001b[1;32m   1736\u001b[0m \u001b[43m    \u001b[49m\u001b[43mvaryings_capture_mode\u001b[49m\u001b[43m \u001b[49m\u001b[38;5;241;43m==\u001b[39;49m\u001b[43m \u001b[49m\u001b[38;5;124;43m\"\u001b[39;49m\u001b[38;5;124;43minterleaved\u001b[39;49m\u001b[38;5;124;43m\"\u001b[39;49m\u001b[43m,\u001b[49m\n\u001b[1;32m   1737\u001b[0m \u001b[43m\u001b[49m\u001b[43m)\u001b[49m\n\u001b[1;32m   1738\u001b[0m res\u001b[38;5;241m.\u001b[39m_members, res\u001b[38;5;241m.\u001b[39m_attribute_locations, res\u001b[38;5;241m.\u001b[39m_attribute_types \u001b[38;5;241m=\u001b[39m _members\n\u001b[1;32m   1740\u001b[0m \u001b[38;5;28;01mif\u001b[39;00m \u001b[38;5;28misinstance\u001b[39m(vertex_shader, \u001b[38;5;28mbytes\u001b[39m) \u001b[38;5;129;01mand\u001b[39;00m \u001b[38;5;28mint\u001b[39m\u001b[38;5;241m.\u001b[39mfrom_bytes(vertex_shader[:\u001b[38;5;241m4\u001b[39m], \u001b[38;5;124m\"\u001b[39m\u001b[38;5;124mlittle\u001b[39m\u001b[38;5;124m\"\u001b[39m) \u001b[38;5;241m==\u001b[39m \u001b[38;5;241m0x07230203\u001b[39m:\n",
      "\u001b[0;31mError\u001b[0m: GLSL Compiler failed\n\nfragment_shader\n===============\n0:53(7): error: `baseNorm' redeclared\n\n"
     ]
    }
   ],
   "source": [
    "print(\"Main Program Parameters\")\n",
    "mainShaderProgram = gl.program(\n",
    "  vertex_shader = shared_vertex_shader_code,\n",
    "  fragment_shader = '''#version 330 core\n",
    "\n",
    "in vec3 f_position;\n",
    "in vec3 f_normal;\n",
    "in vec2 f_uv;\n",
    "\n",
    "uniform vec3 eye;\n",
    "uniform sampler2D map;\n",
    "uniform sampler2D norm;\n",
    "uniform vec4 light;\n",
    "\n",
    "uniform bool metal;\n",
    "const float shininess = 25.0;\n",
    "\n",
    "layout (location = 0) out vec4 out_color;\n",
    "\n",
    "\n",
    "mat3 computeNorm(){\n",
    "    vec3 baseNorm =  texture(norm, f_uv).rgb;\n",
    "    vec3 N = f_normal;\n",
    "\n",
    "    vec3 dp1 = dFdx(f_position);\n",
    "    vec3 dp2 = dFdy(f_position);\n",
    "    vec2 duv1 = dFdx(f_uv);\n",
    "    vec2 duv2 = dFdy(f_uv);\n",
    "    vec3 dp2perp = cross( dp2, f_normal );\n",
    "    vec3 dp1perp = cross( f_normal, dp1 );\n",
    "    vec3 T = dp2perp * duv1.x + dp1perp * duv2.x;\n",
    "    vec3 B = dp2perp * duv1.y + dp1perp * duv2.y;\n",
    "    float invmax = inversesqrt( max( dot(T,T), dot(B,B) ) );\n",
    "    T = invmax *(dp2perp * duv1.x + dp1perp * duv2.x);\n",
    "    B = invmax *(dp2perp * duv1.y + dp1perp * duv2.y);\n",
    "\n",
    "    mat3 TBN = mat3(T,B,N);\n",
    "    \n",
    "    return  TBN;\n",
    "\n",
    "}\n",
    "\n",
    "\n",
    "void main() {\n",
    "\n",
    "    vec3 baseNorm =  texture(norm, f_uv).rgb;\n",
    "    vec3 tangentSpaceNorm = baseNorm *2.0 -1.0;\n",
    "    vec3 N = normalize(f_normal);\n",
    "    vec3 L = normalize(light.xyz);\n",
    "    if (light.w > 0.) L = normalize(light.xyz-f_position);\n",
    "    \n",
    "    vec3 V = normalize(eye-f_position);\n",
    "    vec3 H = normalize(L+V);\n",
    "    \n",
    "    vec3 baseColor = texture(map, f_uv).rgb;\n",
    "    vec3 baseNorm = normalize( computeNorm() * tangentSpaceNorm);\n",
    "    \n",
    "    vec3 color  = ((metal)? pow(clamp(dot(H,baseNorm), 0., 1.), shininess):clamp(dot(baseNorm,L),0.,1.))*baseColor;\n",
    "    out_color = vec4(color,1.);\n",
    "}\n",
    "'''\n",
    ")\n",
    "queryProgramParameters(mainShaderProgram)\n",
    "\n",
    "#https://moderngl.readthedocs.io/en/5.10.0/topics/buffer_format.html#syntax\n",
    "teapot_renderable = gl.vertex_array(mainShaderProgram, [\n",
    "    (teapot_vertex_buffer, '3f 3f 2f', 'in_position', 'in_normal', 'in_uv')\n",
    "]) #for vertex_buffer in vertex_buffers]\n",
    "\n",
    "box_renderable = gl.vertex_array(mainShaderProgram, [\n",
    "    (box_object_buffer, '3f 3f 2f', 'in_position', 'in_normal', 'in_uv')\n",
    "])"
   ]
  },
  {
   "cell_type": "markdown",
   "id": "7b2c5af6",
   "metadata": {},
   "source": [
    "#### Light Program and Light object Rendable"
   ]
  },
  {
   "cell_type": "code",
   "execution_count": null,
   "id": "d58f7182",
   "metadata": {},
   "outputs": [],
   "source": [
    "lightShaderProgram = gl.program(\n",
    "    vertex_shader=shared_vertex_shader_code,\n",
    "    fragment_shader='''#version 330 core\n",
    "\n",
    "in vec3 f_position;\n",
    "in vec3 f_normal;\n",
    "\n",
    "layout (location = 0) out vec4 out_color;\n",
    "\n",
    "void main() {\n",
    "    vec3 N = normalize(f_normal);\n",
    "    out_color = vec4(0.5*(N+1.0),1.0);\n",
    "}'''\n",
    ")\n",
    "print(\"Light Program Parameters\")\n",
    "queryProgramParameters(lightShaderProgram)\n",
    "\n",
    "light_renderable = gl.vertex_array(lightShaderProgram, [\n",
    "    (light_object_buffer, '3f 3f', 'in_position', 'in_normal')\n",
    "])"
   ]
  },
  {
   "cell_type": "markdown",
   "id": "2742ddd2",
   "metadata": {},
   "source": [
    "#### Camera Parameters"
   ]
  },
  {
   "cell_type": "code",
   "execution_count": null,
   "id": "63d6be52-33c4-42e8-a9bf-2f54c57632aa",
   "metadata": {},
   "outputs": [],
   "source": [
    "cameraDistance = 20\n",
    "lookAtPoint = glm.vec3(0)\n",
    "upVector = glm.vec3(0.0, 1.0, 0.0)\n",
    "cameraStartDirection = glm.normalize(glm.vec3(0,10,20))\n",
    "cameraOrbitAxis = glm.vec3(0,1,0)\n",
    "\n",
    "def get_camera_matrix(angle):\n",
    "    d = cameraStartDirection\n",
    "    viewDirection = glm.rotate(glm.radians(angle), cameraOrbitAxis)*cameraStartDirection\n",
    "    eyePoint = lookAtPoint + cameraDistance*viewDirection\n",
    "    viewMatrix = glm.lookAt(eyePoint, lookAtPoint, upVector)\n",
    "    return viewMatrix, eyePoint\n",
    "\n",
    "near = 1\n",
    "far = 45\n",
    "fov = 60\n",
    "def getPerspectiveMatrix(aspect_ratio):\n",
    "    return glm.perspective(glm.radians(fov), aspect_ratio, near, far)"
   ]
  },
  {
   "cell_type": "markdown",
   "id": "7813f46f",
   "metadata": {},
   "source": [
    "#### Light Object Parameters"
   ]
  },
  {
   "cell_type": "code",
   "execution_count": null,
   "id": "2d5054fc-2063-4da0-8738-975030d6fc47",
   "metadata": {},
   "outputs": [],
   "source": [
    "#start light vector \n",
    "lightDistance = 12 \n",
    "lightStartDirection = glm.normalize(glm.vec3(1,1,0))\n",
    "lightTarget = glm.vec3(0)\n",
    "lightOrbitAxis = glm.vec3(0,1,0)\n",
    "def getLightVector(angle):\n",
    "    lightVector = glm.rotate(glm.radians(angle), lightOrbitAxis)*lightStartDirection\n",
    "    lightPosition = lightTarget + lightDistance * lightVector\n",
    "    return lightVector, lightPosition\n",
    "    #return glm.normalize(glm.vec3(cos(angle_in_radian), 1, -sin(angle_in_radian)))# This will change for dynamic light"
   ]
  },
  {
   "cell_type": "markdown",
   "id": "444f797f-b912-4820-8353-a1a4faf1b338",
   "metadata": {},
   "source": [
    "#### Method to render Light Object"
   ]
  },
  {
   "cell_type": "code",
   "execution_count": null,
   "id": "240afb8f-5ada-45ee-af7c-ea8fe8af0f84",
   "metadata": {},
   "outputs": [],
   "source": [
    "def drawLight(lightPosition, view, perspective):\n",
    "    program = lightShaderProgram\n",
    "    program['view'].write(view)\n",
    "    program[\"perspective\"].write(perspective)\n",
    "    light_model_transformation = glm.translate(lightPosition)*light_object_scaletransformation\n",
    "    program[\"model\"].write(light_model_transformation)\n",
    "    light_renderable.render()"
   ]
  },
  {
   "cell_type": "markdown",
   "id": "ffc703c9-844d-40b3-b76d-8ded78127058",
   "metadata": {},
   "source": [
    "#### Method to render Scene"
   ]
  },
  {
   "cell_type": "code",
   "execution_count": null,
   "id": "02c590f9-2df5-4dd3-b2b7-5b8f24bcc784",
   "metadata": {},
   "outputs": [],
   "source": [
    "def drawScene(light, eye, view, perspective):\n",
    "    program = mainShaderProgram\n",
    "    program[\"eye\"].write(eye)\n",
    "    program[\"light\"].write(light)\n",
    "    program['view'].write(view)\n",
    "    program[\"perspective\"].write(perspective)\n",
    "    \n",
    "    program[\"metal\"] = False  \n",
    "    diffuse_sampler.use(0)\n",
    "    floor_sampler.use(1)\n",
    "    program[\"map\"]=0\n",
    "    program[\"norm\"]=1\n",
    "    program[\"model\"].write(box_object_transformation)\n",
    "    box_renderable.render()\n",
    "    \n",
    "    program[\"metal\"] = True\n",
    "    specular_sampler.use(0)\n",
    "    brick_sampler.use(1)\n",
    "    program[\"map\"]=0\n",
    "    program[\"norm\"]=1\n",
    "    program[\"model\"].write(teapot_object_transformation)\n",
    "    teapot_renderable.render()"
   ]
  },
  {
   "cell_type": "markdown",
   "id": "ae9481f1-cbbc-4e45-920e-8cc3fb9ebe76",
   "metadata": {},
   "source": [
    "#### Main Program"
   ]
  },
  {
   "cell_type": "code",
   "execution_count": null,
   "id": "196581d1-759d-4129-b6db-b7284a6a970b",
   "metadata": {},
   "outputs": [],
   "source": [
    "# Toggles\n",
    "pause = True\n",
    "pointSourceFlag = False\n",
    "\n",
    "angle = 270\n",
    "lightVector = getLightVector(angle)\n",
    "perspectiveMatrix = getPerspectiveMatrix(aspect_ratio)\n",
    "viewMatrix, eyePoint = get_camera_matrix(0)\n",
    "\n",
    "running = True\n",
    "while running:   \n",
    "    clock.tick(60)\n",
    "    for event in pygame.event.get():\n",
    "        if event.type == pygame.QUIT:\n",
    "            running = False\n",
    "        elif (event.type == pygame.KEYDOWN):\n",
    "            if event.key == 27:\n",
    "                running = False\n",
    "            elif event.key == pygame.K_p:\n",
    "                pause = not pause\n",
    "            elif event.key == pygame.K_l:\n",
    "                pointSourceFlag = not pointSourceFlag\n",
    "        elif (event.type == pygame.WINDOWRESIZED):\n",
    "            aspect_ratio = event.x/event.y\n",
    "            perspectiveMatrix = getPerspectiveMatrix(aspect_ratio)    \n",
    "            \n",
    "    gl.clear(0.,0.,0.,depth=1.0)\n",
    "\n",
    "    lightVector, lightPosition = getLightVector(angle)\n",
    "    \n",
    "    drawLight(lightPosition, viewMatrix, perspectiveMatrix)\n",
    "\n",
    "    light = glm.vec4(lightPosition,1) if pointSourceFlag else glm.vec4(lightVector,0)\n",
    "    \n",
    "    drawScene(light, eyePoint, viewMatrix, perspectiveMatrix)\n",
    "    \n",
    "    if (not pause):\n",
    "        angle = angle+1\n",
    "        if (angle > 360):\n",
    "            angle = angle - 360\n",
    "\n",
    "    pygame.display.flip()\n",
    "pygame.quit()"
   ]
  }
 ],
 "metadata": {
  "kernelspec": {
   "display_name": "Python 3 (ipykernel)",
   "language": "python",
   "name": "python3"
  },
  "language_info": {
   "codemirror_mode": {
    "name": "ipython",
    "version": 3
   },
   "file_extension": ".py",
   "mimetype": "text/x-python",
   "name": "python",
   "nbconvert_exporter": "python",
   "pygments_lexer": "ipython3",
   "version": "3.10.12"
  }
 },
 "nbformat": 4,
 "nbformat_minor": 5
}
