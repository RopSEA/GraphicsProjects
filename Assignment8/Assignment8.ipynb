{
 "cells": [
  {
   "cell_type": "markdown",
   "id": "75282e5c-64d0-4857-8e0a-3c8ce31b528c",
   "metadata": {},
   "source": [
    "# Instancing"
   ]
  },
  {
   "cell_type": "code",
   "execution_count": 1380,
   "id": "79683a59-1a30-43f8-a47c-4082262f61ef",
   "metadata": {},
   "outputs": [],
   "source": [
    "# Assignment 8 Remi Roper"
   ]
  },
  {
   "cell_type": "code",
   "execution_count": 1381,
   "id": "747899d1-1c94-4076-a80c-0f846295a154",
   "metadata": {},
   "outputs": [],
   "source": [
    "import glm\n",
    "import numpy as np\n",
    "import pygame\n",
    "import moderngl\n",
    "from objloader import Obj\n",
    "from math import cos, sin, sqrt\n",
    "import ctypes"
   ]
  },
  {
   "cell_type": "markdown",
   "id": "8a0b2d99-52dc-4760-b66a-2cfc6dddedd0",
   "metadata": {},
   "source": [
    "### Read data from an OBJ modelfile"
   ]
  },
  {
   "cell_type": "code",
   "execution_count": 1382,
   "id": "92b04312-9210-4042-99d0-bbb5efc0e7e7",
   "metadata": {},
   "outputs": [],
   "source": [
    "class SceneBound:\n",
    "    def __init__(self, coords):\n",
    "        self.boundingBox = [\n",
    "        np.min(coords,0),\n",
    "        np.max(coords,0)\n",
    "        ]\n",
    "        self.center = (self.boundingBox[0] + self.boundingBox[1])/2\n",
    "        dVector = (self.boundingBox[1] - self.boundingBox[0])\n",
    "        self.radius = sqrt(dVector[0]*dVector[0] + dVector[1]*dVector[1]+dVector[2]*dVector[2])/2\n",
    "    def __str__(self):\n",
    "        return f\"boundingBox:{self.boundingBox}, enter: {self.center}, Radius:{self.radius}.\"\n",
    "\n",
    "def get_triangle_normal(vertexList):\n",
    "    e1 = glm.vec3(vertexList[1]) - glm.vec3(vertexList[0])\n",
    "    e2 = glm.vec3(vertexList[2]) - glm.vec3(vertexList[0])\n",
    "    return list(glm.normalize(glm.cross(e1, e2)))\n",
    "\n",
    "def compute_triangle_normal_coords(position_coord):\n",
    "    i = 0\n",
    "    normals = []\n",
    "    while i < len(position_coord):\n",
    "        normal = get_triangle_normal(position_coord[i:i+3])\n",
    "        normals.append(normal)\n",
    "        normals.append(normal)\n",
    "        normals.append(normal)\n",
    "        i += 3\n",
    "    return np.array(normals)\n",
    "\n",
    "def getObjectData(filePath, normal=False, texture = False):\n",
    "    geometry = Obj.open(filePath)\n",
    "    position_coord = np.array([geometry.vert[f[0]-1] for f in geometry.face])\n",
    "    if normal==True:\n",
    "        if geometry.norm:\n",
    "            normal_coord = np.array([geometry.norm[f[2]-1] for f in geometry.face])\n",
    "            print(\"Normal exists\")\n",
    "        else:\n",
    "            normal_coord = compute_triangle_normal_coords(position_coord)\n",
    "            print(\"Normal computed.\")\n",
    "    if texture==True:\n",
    "        if geometry.text:\n",
    "            texture_coord = np.array([[geometry.text[f[1]-1][0],geometry.text[f[1]-1][1]] for f in geometry.face])\n",
    "            print (\"texture exists\")\n",
    "        else:\n",
    "            texture_coord = np.array([[0.5,0.5] for f in geometry.face])\n",
    "            print(\"No texture\")\n",
    "    if (normal==False and texture == False):\n",
    "        vertex_data = position_coord.astype(\"float32\").flatten()\n",
    "    elif texture == False:\n",
    "        vertex_data = np.concatenate((position_coord,normal_coord),axis=1).astype(\"float32\").flatten()\n",
    "    elif normal == False:\n",
    "        vertex_data = np.concatenate((position_coord,texture_coord),axis=1).astype(\"float32\").flatten()\n",
    "    else:\n",
    "        vertex_data = np.concatenate((position_coord,normal_coord,texture_coord),axis=1).astype(\"float32\").flatten()\n",
    "    return [vertex_data, SceneBound(position_coord)]\n",
    "\n",
    "\n",
    "\n",
    "\n",
    "def load_image(image_file, channels = \"RGBA\", flip_x = False, flip_y = False):\n",
    "    # pygame.image.load() will return the\n",
    "    # object that has image\n",
    "    texture_img = pygame.image.load(image_file)\n",
    "    if (flip_x or flip_y):\n",
    "        texture_img=pygame.transform.flip(texture_img, flip_x, flip_y)\n",
    "    texture_data = pygame.image.tobytes(texture_img,channels,True)\n",
    "    return texture_data, texture_img.get_size()\n",
    "        \n"
   ]
  },
  {
   "cell_type": "code",
   "execution_count": 1383,
   "id": "bfbdef5e-4d46-4355-a94f-ceb3395147c5",
   "metadata": {},
   "outputs": [],
   "source": [
    "files = [\"teapot_with_texCoords-1.obj\", \"cube.obj\", \"20_icosahedron.obj\"] # Teapot, floor, and light source"
   ]
  },
  {
   "cell_type": "code",
   "execution_count": 1384,
   "id": "3b4402b6-d3e7-4f3b-918b-0b5d9f535900",
   "metadata": {},
   "outputs": [
    {
     "name": "stdout",
     "output_type": "stream",
     "text": [
      "Normal exists\n",
      "texture exists\n",
      "Normal exists\n",
      "texture exists\n",
      "Normal computed.\n"
     ]
    }
   ],
   "source": [
    "#teapot_vertex_data, teapotBound = getObjectData(files[0], normal=True )\n",
    "teapot_vertex_data, teapotBound = getObjectData(files[0], normal=True , texture = True )\n",
    "floor_vertex_data, floorBound = getObjectData(files[1], normal=True , texture = True )\n",
    "light_vertex_data, lightBound = getObjectData(files[2], normal=True, texture = False)\n"
   ]
  },
  {
   "cell_type": "code",
   "execution_count": 1385,
   "id": "67f600b6-7327-4a85-a14e-1abdae7297e6",
   "metadata": {},
   "outputs": [],
   "source": [
    "floor_object_transformation = glm.scale(glm.vec3(10,0.05,10))*glm.translate(glm.vec3(0,-1,0))\n",
    "teapot_object_transformation = glm.scale(glm.vec3(0.3))*glm.translate(glm.vec3(0,7.875,0))\n",
    "light_object_transformation = glm.scale(glm.vec3(0.1))"
   ]
  },
  {
   "cell_type": "markdown",
   "id": "dfcfccd1-7e34-4335-ae59-0f2e48dce74e",
   "metadata": {},
   "source": [
    "### Initialize pygame and create a window with OpenGL context."
   ]
  },
  {
   "cell_type": "code",
   "execution_count": 1386,
   "id": "995e536e-715e-4fdf-9e59-2a10cba86c4d",
   "metadata": {},
   "outputs": [],
   "source": [
    "pygame.init() # Initlizes its different modules. Display module is one of them.\n",
    "clock = pygame.time.Clock()\n",
    "window = pygame.display.set_mode((1000, 800), flags= pygame.OPENGL | pygame.DOUBLEBUF | pygame.RESIZABLE , vsync=False) \n",
    "pygame.display.gl_set_attribute(pygame.GL_CONTEXT_MAJOR_VERSION,4)\n",
    "pygame.display.gl_set_attribute(pygame.GL_CONTEXT_MINOR_VERSION,1)\n",
    "pygame.display.set_caption(title = \"Assignment 8: Remi Roper\")\n",
    "gl = moderngl.get_context()  # Get Previously created context.\n",
    "gl.enable(gl.DEPTH_TEST)\n",
    "width, height = window.get_size()\n",
    "aspect_ratio = width/height"
   ]
  },
  {
   "cell_type": "markdown",
   "id": "2cdb6105-f17f-4a05-b29e-308249fa8cc3",
   "metadata": {},
   "source": [
    "### Push the Geometry Data to the GPU buffer."
   ]
  },
  {
   "cell_type": "code",
   "execution_count": 1387,
   "id": "dcc737c1-6663-4086-86c7-84ee19ce512b",
   "metadata": {},
   "outputs": [],
   "source": [
    "teapot_vertex_buffer = gl.buffer(teapot_vertex_data)\n",
    "floor_vertex_buffer = gl.buffer(floor_vertex_data)\n",
    "light_vertex_buffer = gl.buffer(light_vertex_data)"
   ]
  },
  {
   "cell_type": "markdown",
   "id": "ba127662-e64f-48d3-b4ee-3e9c81c74fc0",
   "metadata": {},
   "source": [
    "### Write shader code and Create shader program"
   ]
  },
  {
   "cell_type": "code",
   "execution_count": 1388,
   "id": "f24798ed-eb38-4d7b-8f74-ea3f444b9078",
   "metadata": {},
   "outputs": [],
   "source": [
    "vertex_shader_code = '''\n",
    "#version 330 core\n",
    "\n",
    "layout (location = 0) in vec4 in_position;\n",
    "layout (location = 1) in vec3 in_normal;\n",
    "layout (location = 2) in vec2 in_uv;\n",
    "\n",
    "uniform mat4 model;\n",
    "uniform mat4 view, perspective;\n",
    "\n",
    "out vec3 f_normal;\n",
    "out vec2 fragUV;\n",
    "\n",
    "void main() {\n",
    "    vec4 world_position = model* in_position;\n",
    "    gl_Position = perspective*view*world_position;\n",
    "    f_normal = in_normal;\n",
    "    fragUV = in_uv;\n",
    "    \n",
    "    \n",
    "    mat3 normalMatrix = mat3(transpose(inverse(model)));\n",
    "    f_normal = normalize(normalMatrix*in_normal); \n",
    "    \n",
    "}\n",
    "'''\n",
    "\n",
    "fragment_shader_code ='''\n",
    "#version 330 core\n",
    "\n",
    "in vec3 f_normal;\n",
    "in vec3 f_position;\n",
    "in vec2 fragUV;\n",
    "\n",
    "out vec4 outColor;\n",
    "\n",
    "uniform sampler2D tex;\n",
    "uniform vec4 light;\n",
    "uniform vec3 eyepos;\n",
    "uniform bool metal;\n",
    "\n",
    "vec3 computeColor(vec3 materialColor)\n",
    "{\n",
    "    vec3 lightVector = light.xyz;\n",
    "    if (light.w > 0)\n",
    "        lightVector = light.xyz - f_position;\n",
    "    vec3 L = normalize(lightVector);\n",
    "    vec3 N = normalize(f_normal);\n",
    "    vec3 V = normalize(eyepos - f_normal);\n",
    "    vec3 H = normalize(L+V);\n",
    "    return materialColor * pow(clamp(dot(H,N),0.,1.),10);\n",
    "}\n",
    "\n",
    "vec3 computeColor2(vec3 materialColor)\n",
    "{\n",
    "    vec3 lightVector = light.xyz;\n",
    "    if (light.w > 0)\n",
    "        lightVector = light.xyz - f_position;\n",
    "    vec3 L = normalize(lightVector);\n",
    "    vec3 N = normalize(f_normal);\n",
    "    return materialColor * clamp(dot(L,N),0.,1.);\n",
    "}\n",
    "\n",
    "void main()\n",
    "{\n",
    "    vec3 materialColor = texture(tex, fragUV).rgb;\n",
    "    vec3 color = materialColor;\n",
    "    if (metal == true)\n",
    "        color = computeColor(materialColor);\n",
    "    if (metal == false)\n",
    "        color = computeColor2(materialColor);\n",
    "        \n",
    "    outColor = vec4 (color, 1);\n",
    "}\n",
    "\n",
    "'''\n",
    "\n",
    "fragment_shader_code_for_light_source ='''#version 330 core\n",
    "\n",
    "in vec3 f_position;\n",
    "in vec3 f_normal;\n",
    "\n",
    "layout (location = 0) out vec4 out_color;\n",
    "\n",
    "void main() {\n",
    "    vec3 N = normalize(f_normal);\n",
    "    out_color = vec4(0.5*(N+1.0),1.0);\n",
    "}\n",
    "\n",
    "'''\n",
    "\n",
    "sceneProgram = gl.program(\n",
    "    vertex_shader=vertex_shader_code,\n",
    "    fragment_shader=fragment_shader_code\n",
    ")\n",
    "\n",
    "lightProgram = gl.program(\n",
    "    vertex_shader=vertex_shader_code,\n",
    "    fragment_shader=fragment_shader_code_for_light_source\n",
    ")\n"
   ]
  },
  {
   "cell_type": "code",
   "execution_count": 1389,
   "id": "2a3f7405-81c5-4e95-91e1-915fb26150c9",
   "metadata": {},
   "outputs": [],
   "source": [
    "def viewProgramParameters(program):\n",
    "    for name in program:\n",
    "        member = program[name]\n",
    "        print(name, type(member), member)"
   ]
  },
  {
   "cell_type": "code",
   "execution_count": 1390,
   "id": "c16cae23-130a-47c0-b04b-4e19cee61f80",
   "metadata": {},
   "outputs": [
    {
     "name": "stdout",
     "output_type": "stream",
     "text": [
      "in_position <class '_moderngl.Attribute'> <Attribute: 0>\n",
      "in_normal <class '_moderngl.Attribute'> <Attribute: 1>\n",
      "model <class '_moderngl.Uniform'> <Uniform: 0>\n",
      "view <class '_moderngl.Uniform'> <Uniform: 1>\n",
      "perspective <class '_moderngl.Uniform'> <Uniform: 2>\n"
     ]
    }
   ],
   "source": [
    "viewProgramParameters(lightProgram)"
   ]
  },
  {
   "cell_type": "code",
   "execution_count": 1391,
   "id": "8c744355-1046-4bfb-a674-a037bccebba3",
   "metadata": {},
   "outputs": [
    {
     "name": "stdout",
     "output_type": "stream",
     "text": [
      "in_position <class '_moderngl.Attribute'> <Attribute: 0>\n",
      "in_normal <class '_moderngl.Attribute'> <Attribute: 1>\n",
      "in_uv <class '_moderngl.Attribute'> <Attribute: 2>\n",
      "model <class '_moderngl.Uniform'> <Uniform: 0>\n",
      "view <class '_moderngl.Uniform'> <Uniform: 1>\n",
      "perspective <class '_moderngl.Uniform'> <Uniform: 2>\n",
      "tex <class '_moderngl.Uniform'> <Uniform: 3>\n",
      "light <class '_moderngl.Uniform'> <Uniform: 4>\n",
      "eyepos <class '_moderngl.Uniform'> <Uniform: 5>\n",
      "metal <class '_moderngl.Uniform'> <Uniform: 6>\n"
     ]
    }
   ],
   "source": [
    "viewProgramParameters(sceneProgram)"
   ]
  },
  {
   "cell_type": "markdown",
   "id": "c49784b3-f1ed-43ec-861d-ba874600c6c6",
   "metadata": {},
   "source": [
    "### Connect the buffers to shader program"
   ]
  },
  {
   "cell_type": "code",
   "execution_count": 1392,
   "id": "7eaf8b44-13ad-4781-97a8-32bb761de837",
   "metadata": {},
   "outputs": [],
   "source": [
    "#https://moderngl.readthedocs.io/en/5.10.0/topics/buffer_format.html#syntax\n",
    "teapot_renderable = gl.vertex_array(sceneProgram, [\n",
    "    (teapot_vertex_buffer, '3f 3f 2f', 'in_position', 'in_normal', 'in_uv')\n",
    "]) #for vertex_buffer in vertex_buffers]\n",
    "\n",
    "floor_renderable = gl.vertex_array(sceneProgram, [\n",
    "    (floor_vertex_buffer, '3f 3f 2f', 'in_position', 'in_normal', 'in_uv')\n",
    "])\n",
    "\n",
    "light_renderable = gl.vertex_array(lightProgram, [\n",
    "    (light_vertex_buffer, '3f 3f', 'in_position', 'in_normal')\n",
    "])"
   ]
  },
  {
   "cell_type": "code",
   "execution_count": 1393,
   "id": "045269d1-e0ab-4200-90ea-fe9ad4034f45",
   "metadata": {},
   "outputs": [],
   "source": [
    "near = 1\n",
    "far = 45\n",
    "aspect_ratio = width/height\n",
    "\n",
    "perspectiveMatrix = glm.perspective(glm.radians(60.0), aspect_ratio, near, far)\n",
    "\n",
    "target = glm.vec3(0)\n",
    "cameraDistance = 20\n",
    "eye = target + cameraDistance*glm.normalize(glm.vec3(0,10,20))\n",
    "upVector = glm.vec3(0.0, 1.0, 0.0)\n",
    "viewMatrix = glm.lookAt(eye, target, upVector)\n",
    "lviewMatrix = viewMatrix\n",
    "\n",
    "angle_in_radian = pygame.time.get_ticks() / 1200.0\n",
    "rotateMatrix = glm.rotate(glm.mat4(1), glm.radians(angle_in_radian), glm.vec3(0, 1 ,0))"
   ]
  },
  {
   "cell_type": "code",
   "execution_count": 1394,
   "id": "ddbe2341-1020-42c3-b95a-adb4e7915f90",
   "metadata": {},
   "outputs": [],
   "source": [
    "# start light vector \n",
    "lightDistance = 12\n",
    "lightVector = glm.normalize(glm.vec3(-1,1,0))# This will change for dynamic light"
   ]
  },
  {
   "cell_type": "code",
   "execution_count": null,
   "id": "196581d1-759d-4129-b6db-b7284a6a970b",
   "metadata": {},
   "outputs": [],
   "source": [
    "running = True\n",
    "depth = True\n",
    "toggle = True\n",
    "angle = 0\n",
    "\n",
    "\n",
    "grass_img_data, grass_img_size = load_image(\"grass.jpg\")\n",
    "grass_texture = gl.texture(grass_img_size, 4, grass_img_data)\n",
    "\n",
    "gold_img_data, gold_img_size = load_image(\"gold.jpg\")\n",
    "gold_texture = gl.texture(gold_img_size, 4, gold_img_data)\n",
    "\n",
    "grass_sampler = gl.sampler(texture=grass_texture, filter=(gl.LINEAR, gl.LINEAR))\n",
    "\n",
    "gold_sampler = gl.sampler(texture=gold_texture, filter=(gl.LINEAR, gl.LINEAR))\n",
    "\n",
    "grass_sampler.use(0)\n",
    "gold_sampler.use(1)\n",
    "\n",
    "sceneProgram['view'].write(viewMatrix)\n",
    "sceneProgram[\"perspective\"].write(perspectiveMatrix)\n",
    "sceneProgram[\"eyepos\"].write(eye)\n",
    "\n",
    "sceneProgram[\"metal\"].value = True\n",
    "\n",
    "lightProgram['view'].write(lviewMatrix)\n",
    "lightProgram[\"perspective\"].write(perspectiveMatrix)\n",
    "\n",
    "lightPosition = lightDistance*lightVector\n",
    "newLight = glm.vec4(lightPosition, 1.0)\n",
    "newLight = light_object_transformation * newLight\n",
    "sceneProgram['light'].write(newLight)\n",
    "\n",
    "\n",
    "while running:   \n",
    "    clock.tick(60)\n",
    "    for event in pygame.event.get():\n",
    "        if event.type == pygame.QUIT:\n",
    "            running = False\n",
    "        elif (event.type == pygame.KEYDOWN):\n",
    "            if event.key == 27:\n",
    "                running = False\n",
    "            elif event.key == pygame.K_d:\n",
    "                depth = not depth\n",
    "                if depth:\n",
    "                    gl.enable(gl.DEPTH_TEST)\n",
    "                else:\n",
    "                    gl.disable(gl.DEPTH_TEST)\n",
    "            elif event.key == pygame.K_l:\n",
    "                toggle = not toggle\n",
    "        elif (event.type == pygame.WINDOWRESIZED):\n",
    "            aspect_ratio = event.x/event.y\n",
    "            perspectiveMatrix = glm.perspective(glm.radians(60.0), aspect_ratio, near, far)\n",
    "            sceneProgram[\"perspective\"].write(perspectiveMatrix) \n",
    "            lightProgram[\"perspective\"].write(perspectiveMatrix)\n",
    "            \n",
    "    gl.clear(0.1,0.1,0.1,depth=1.0)\n",
    "\n",
    "    # For orbiting light you must update the light direction every frame and recompute the light position and light_model_transformation.\n",
    "    # \n",
    "    lightPosition = lightDistance*lightVector # Light is placed lightDistance away from the world Origin along the lightVector direction\n",
    "    light_model_transformation = glm.translate(lightPosition)*light_object_transformation\n",
    "\n",
    "    lviewMatrix = lviewMatrix * rotateMatrix\n",
    "    lightProgram['view'].write(lviewMatrix)\n",
    "\n",
    "    if toggle:\n",
    "        newLight = glm.vec4(lightPosition, 1.0)\n",
    "        newLight = lviewMatrix *  perspectiveMatrix * newLight \n",
    "    else:\n",
    "        newLight = glm.vec4(lightPosition, 1.0)\n",
    "    \n",
    "    sceneProgram['light'].write(newLight)\n",
    "    lightProgram[\"model\"].write(light_model_transformation)\n",
    "    light_renderable.render()\n",
    "\n",
    "    sceneProgram[\"model\"].write(floor_object_transformation)\n",
    "    sceneProgram[\"tex\"].value = 0\n",
    "    sceneProgram[\"metal\"].value = False\n",
    "    floor_renderable.render()\n",
    "\n",
    "    sceneProgram[\"model\"].write(teapot_object_transformation)\n",
    "    sceneProgram[\"tex\"].value = 1\n",
    "    sceneProgram[\"metal\"].value = True\n",
    "    teapot_renderable.render()\n",
    "\n",
    "    pygame.display.flip()"
   ]
  },
  {
   "cell_type": "code",
   "execution_count": null,
   "id": "7d5ffbcf-96fb-4d8f-a3fb-1ea0ef454195",
   "metadata": {},
   "outputs": [],
   "source": [
    "pygame.quit()"
   ]
  },
  {
   "cell_type": "code",
   "execution_count": null,
   "id": "85e2fd58-9a2a-48ce-ba5a-330f132336bb",
   "metadata": {},
   "outputs": [],
   "source": []
  },
  {
   "cell_type": "code",
   "execution_count": null,
   "id": "577793ea-d5cc-4c58-8898-2c44524053dc",
   "metadata": {},
   "outputs": [],
   "source": []
  },
  {
   "cell_type": "code",
   "execution_count": null,
   "id": "c692efd8-d631-4772-a20c-0b29b69042d3",
   "metadata": {},
   "outputs": [],
   "source": []
  }
 ],
 "metadata": {
  "kernelspec": {
   "display_name": "Python 3 (ipykernel)",
   "language": "python",
   "name": "python3"
  },
  "language_info": {
   "codemirror_mode": {
    "name": "ipython",
    "version": 3
   },
   "file_extension": ".py",
   "mimetype": "text/x-python",
   "name": "python",
   "nbconvert_exporter": "python",
   "pygments_lexer": "ipython3",
   "version": "3.10.12"
  }
 },
 "nbformat": 4,
 "nbformat_minor": 5
}
